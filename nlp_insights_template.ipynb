{
 "cells": [
  {
   "cell_type": "markdown",
   "id": "441a67d0-84c4-4364-8420-8812ca834cbd",
   "metadata": {},
   "source": [
    "# NLP Insights"
   ]
  },
  {
   "cell_type": "markdown",
   "id": "fe0a5552-081c-454a-93f3-53074e509edf",
   "metadata": {},
   "source": [
    "Setting Stage"
   ]
  },
  {
   "cell_type": "code",
   "execution_count": 1,
   "id": "ae657ac5-0b70-435f-ba5a-0176d30de289",
   "metadata": {
    "tags": []
   },
   "outputs": [],
   "source": [
    "%%capture\n",
    "!pip install --trusted-host pypi.org --trusted-host pypi.python.org --trusted-host files.pythonhosted.org sqlalchemy psycopg2 openai"
   ]
  },
  {
   "cell_type": "code",
   "execution_count": 2,
   "id": "c0f94929-1b52-44a3-afa2-9db8c0f75c6d",
   "metadata": {},
   "outputs": [],
   "source": [
    "import openai\n",
    "import os\n",
    "from datetime import datetime, timedelta"
   ]
  },
  {
   "cell_type": "code",
   "execution_count": 4,
   "id": "8573fd21-cc72-44cc-822c-d44cda6c4cc6",
   "metadata": {
    "tags": []
   },
   "outputs": [],
   "source": [
    "utilFolder = '//LSFS/BOSTON/Dept/FIM/HF2/ChatGPT/market_color_email_data'\n",
    "os.chdir(utilFolder)\n",
    "os.environ['REQUESTS_CA_BUNDLE'] = '//LSFS/BOSTON/Dept/FIM/HF2/ChatGPT/Baltimore CyberTrust Root.crt' # https://api.openai.com/v1/engines\n",
    "import email_db_utils as edu\n",
    "from utils_gpt import * # get_emails(topic, start_date, end_date) and run_gpt(prompt, ...)\n",
    "get_openai_key()"
   ]
  },
  {
   "cell_type": "markdown",
   "id": "036ed055-f082-43f5-a9fa-ef89ea0b5ccd",
   "metadata": {},
   "source": [
    "Run GPT with the Email Contents"
   ]
  },
  {
   "cell_type": "code",
   "execution_count": 5,
   "id": "143ec82d-c075-4ee2-a631-ecc1708805fe",
   "metadata": {
    "tags": []
   },
   "outputs": [
    {
     "data": {
      "text/html": [
       "<div>\n",
       "<style scoped>\n",
       "    .dataframe tbody tr th:only-of-type {\n",
       "        vertical-align: middle;\n",
       "    }\n",
       "\n",
       "    .dataframe tbody tr th {\n",
       "        vertical-align: top;\n",
       "    }\n",
       "\n",
       "    .dataframe thead th {\n",
       "        text-align: right;\n",
       "    }\n",
       "</style>\n",
       "<table border=\"1\" class=\"dataframe\">\n",
       "  <thead>\n",
       "    <tr style=\"text-align: right;\">\n",
       "      <th></th>\n",
       "      <th>received_date_time</th>\n",
       "      <th>sender</th>\n",
       "      <th>recipients_send_to</th>\n",
       "      <th>recipients_copy_to</th>\n",
       "      <th>subject</th>\n",
       "      <th>body</th>\n",
       "      <th>body_text</th>\n",
       "      <th>attachments</th>\n",
       "      <th>created_date_time</th>\n",
       "      <th>content</th>\n",
       "    </tr>\n",
       "  </thead>\n",
       "  <tbody>\n",
       "    <tr>\n",
       "      <th>203</th>\n",
       "      <td>2023-10-25 08:10:08</td>\n",
       "      <td>\"Elie Radinsky\" &lt;ERadinsky@cantor.com&gt;</td>\n",
       "      <td>[CN=Tom Stolberg/OU=FIM/OU=Boston/O=LoomisSayles]</td>\n",
       "      <td>None</td>\n",
       "      <td>Cantor/Fixed Income: U.S. Credit Morning Brief...</td>\n",
       "      <td>\\r\\n      &lt;table id=\"bodyTable\" cellpadding=\"0...</td>\n",
       "      <td>October 25, 2023 Global Credit U.S. Credit Mor...</td>\n",
       "      <td>[ef634e6f-526f-4c08-8084-2bb40f61d1e9@bluematr...</td>\n",
       "      <td>2023-10-25 08:10:58.804791</td>\n",
       "      <td>October 25, 2023 Global Credit U.S. Credit Mor...</td>\n",
       "    </tr>\n",
       "  </tbody>\n",
       "</table>\n",
       "</div>"
      ],
      "text/plain": [
       "     received_date_time                                  sender  \\\n",
       "203 2023-10-25 08:10:08  \"Elie Radinsky\" <ERadinsky@cantor.com>   \n",
       "\n",
       "                                    recipients_send_to recipients_copy_to  \\\n",
       "203  [CN=Tom Stolberg/OU=FIM/OU=Boston/O=LoomisSayles]               None   \n",
       "\n",
       "                                               subject  \\\n",
       "203  Cantor/Fixed Income: U.S. Credit Morning Brief...   \n",
       "\n",
       "                                                  body  \\\n",
       "203  \\r\\n      <table id=\"bodyTable\" cellpadding=\"0...   \n",
       "\n",
       "                                             body_text  \\\n",
       "203  October 25, 2023 Global Credit U.S. Credit Mor...   \n",
       "\n",
       "                                           attachments  \\\n",
       "203  [ef634e6f-526f-4c08-8084-2bb40f61d1e9@bluematr...   \n",
       "\n",
       "             created_date_time  \\\n",
       "203 2023-10-25 08:10:58.804791   \n",
       "\n",
       "                                               content  \n",
       "203  October 25, 2023 Global Credit U.S. Credit Mor...  "
      ]
     },
     "execution_count": 5,
     "metadata": {},
     "output_type": "execute_result"
    }
   ],
   "source": [
    "start_date = '2023-10-24' #Previous BD\n",
    "end_date = '2023-10-26' #Tomorrow\n",
    "topic = 'hy' #Choose from: ig, hy, bl, ec, em, ir, eq\n",
    "\n",
    "###### DO NOT CHANGE ######\n",
    "df_emails = get_emails(topic, start_date, end_date)\n",
    "df_emails = df_emails[df_emails.received_date_time > start_date + ' 15:00:00']\n",
    "df_emails[~df_emails.sender.str.contains(\"News Alert\")] #Check manual forwarded emails\n",
    "###### DO NOT CHANGE ######"
   ]
  },
  {
   "cell_type": "code",
   "execution_count": 6,
   "id": "ad0e24a8-a524-41f8-a1a8-b8a8af200cf4",
   "metadata": {
    "tags": []
   },
   "outputs": [],
   "source": [
    "#df_emails = df_emails.drop(axis=0, index=[338,])"
   ]
  },
  {
   "cell_type": "code",
   "execution_count": 7,
   "id": "9664d69d-74b3-4510-8a17-f07be0021fa8",
   "metadata": {
    "tags": []
   },
   "outputs": [],
   "source": [
    "#df_emails = get_emails(topic, '2023-10-05', end_date)"
   ]
  },
  {
   "cell_type": "code",
   "execution_count": 8,
   "id": "515320f6-cff8-407f-991d-9404f3037550",
   "metadata": {
    "tags": []
   },
   "outputs": [],
   "source": [
    "df_emails = df_emails[~df_emails.sender.str.contains(\"News Alert\")]"
   ]
  },
  {
   "cell_type": "code",
   "execution_count": 9,
   "id": "811f4165-b786-4722-8570-ea3e773db60e",
   "metadata": {
    "tags": []
   },
   "outputs": [],
   "source": [
    "###### DO NOT CHANGE ######\n",
    "emails = \"\\n\".join(df_emails.content.tolist())\n",
    "prompt_template = \"{input}\\n Question: Given the news headlines above, {your_question} Answer: \"\n",
    "prompt_QA = prompt_template.replace(\"{input}\", emails)\n",
    "###### DO NOT CHANGE ######"
   ]
  },
  {
   "cell_type": "code",
   "execution_count": 11,
   "id": "395c49e8-5ff5-497a-90ab-de17a577012a",
   "metadata": {},
   "outputs": [
    {
     "name": "stdout",
     "output_type": "stream",
     "text": [
      "Based on the news headlines, the overall sentiment in the US high yield (HY) market leans towards positive. \n",
      "\n",
      "1. High grade credit tightened by 3-5bps, indicating increased demand from hedge funds and real money buyers. This suggests a positive sentiment towards HY bonds.\n",
      "\n",
      "2. Energy paper remained well bid, with spreads tightening by 3-5bps in the past two days. This indicates a positive sentiment towards the energy sector in the HY market.\n",
      "\n",
      "3. The buy to sell inquiry has significantly increased, with a buy to sell ratio of 3.25x. This suggests a strong buying interest in the HY market, which is a positive sentiment.\n",
      "\n",
      "Overall, the news suggests that there is increased demand and buying interest in the US HY market, indicating a positive sentiment among investors.\n"
     ]
    }
   ],
   "source": [
    "my_question = \"Does overall US HY market sentiment lean towards positive or negative now? Summarize with a few examples.\"\n",
    "\n",
    "###### DO NOT CHANGE ######\n",
    "response = run_gpt(prompt_QA.replace(\"{your_question}\", my_question))\n",
    "print(response)\n",
    "###### DO NOT CHANGE ######"
   ]
  },
  {
   "cell_type": "code",
   "execution_count": 12,
   "id": "3e599b7d-2c9e-42cd-9ca3-1a03503ae423",
   "metadata": {},
   "outputs": [
    {
     "name": "stdout",
     "output_type": "stream",
     "text": [
      "Based on the information provided in the morning briefing, the issuers with significant price moves are:\n",
      "\n",
      "1. Chevron (CVX): The energy paper remained well bid following Chevron's purchase of Hess (HES), with spreads tightening by 3-5 basis points over the past two days.\n",
      "\n",
      "2. American Express (AXP): AXP issued $2.5 billion across three tranches, which traded up by 5 basis points with real money and hedge fund buying.\n",
      "\n",
      "3. Apache Corporation (APA)\n",
      "4. Devon Energy (DVN)\n",
      "5. Diamondback Energy (FANG)\n",
      "6. Marathon Oil (MRO)\n",
      "7. Ovintiv Inc. (OVV)\n",
      "8. Occidental Petroleum (OXY)\n",
      "\n",
      "These issuers are mentioned in the briefing as part of the \"game of who's next\" in the energy sector, indicating potential significant price moves.\n"
     ]
    }
   ],
   "source": [
    "my_question = \"highlight issuers with significant price moves\"\n",
    "\n",
    "###### DO NOT CHANGE ######\n",
    "response = run_gpt(prompt_QA.replace(\"{your_question}\", my_question))\n",
    "print(response)\n",
    "###### DO NOT CHANGE ######"
   ]
  },
  {
   "cell_type": "code",
   "execution_count": 13,
   "id": "24092fc1-0a36-42b5-81c5-70491466ecb7",
   "metadata": {},
   "outputs": [
    {
     "name": "stdout",
     "output_type": "stream",
     "text": [
      "Based on the provided news briefing, there is no specific mention of impactful political or macro news driving the US high yield market. The focus of the briefing seems to be on the recent tightening of high-grade credit spreads, real money participation, and the buying interest in energy paper.\n"
     ]
    }
   ],
   "source": [
    "my_question = \"any impactful political or macro news driving the US HY market?  list examples:\"\n",
    "\n",
    "###### DO NOT CHANGE ######\n",
    "response = run_gpt(prompt_QA.replace(\"{your_question}\", my_question))\n",
    "print(response)\n",
    "###### DO NOT CHANGE ######"
   ]
  },
  {
   "cell_type": "code",
   "execution_count": 341,
   "id": "9dfed418-367e-40b8-a60b-766cb4bac607",
   "metadata": {
    "tags": []
   },
   "outputs": [
    {
     "name": "stdout",
     "output_type": "stream",
     "text": [
      "China's economy is showing mixed signals. While the real GDP growth for Q3 beat expectations, the nominal GDP growth remained subdued due to deflationary pressures. The property sector is facing challenges, with China Evergrande Group's debt crisis causing concerns in the market. The collapse in lithium prices is also a point of focus, with supply adjustments and tepid demand contributing to the decline. The spillover effects to neighboring countries are evident in the lithium sector, as lithium prices have dropped significantly. However, other sectors may not be directly impacted by these developments.\n"
     ]
    }
   ],
   "source": [
    "my_question = \"How's China going? Any particular sector is in focus? Any spillover effects to the neighbor countries?\"\n",
    "\n",
    "###### DO NOT CHANGE ######\n",
    "response = run_gpt(prompt_QA.replace(\"{your_question}\", my_question))\n",
    "print(response)\n",
    "###### DO NOT CHANGE ######"
   ]
  },
  {
   "cell_type": "code",
   "execution_count": null,
   "id": "cedbcbca-2fd9-4a90-9f4c-5c7b6ee662ff",
   "metadata": {},
   "outputs": [],
   "source": []
  },
  {
   "cell_type": "code",
   "execution_count": 14,
   "id": "6c8f6de7-1162-4afe-be13-5214df28aa4a",
   "metadata": {
    "jupyter": {
     "source_hidden": true
    },
    "tags": []
   },
   "outputs": [
    {
     "name": "stdout",
     "output_type": "stream",
     "text": [
      "166\n"
     ]
    }
   ],
   "source": [
    "###### DO NOT CHANGE ######\n",
    "df_emails = get_emails(topic, start_date, end_date)\n",
    "df_emails = df_emails[df_emails.received_date_time > start_date + ' 08:00:00']\n",
    "print(sum(df_emails.sender.str.contains(\"News Alert\"))) #Check number of BBG news headlines\n",
    "###### DO NOT CHANGE ######"
   ]
  },
  {
   "cell_type": "code",
   "execution_count": 15,
   "id": "da5babbc-110a-4d67-b3a4-80f54344bf5c",
   "metadata": {
    "tags": []
   },
   "outputs": [],
   "source": [
    "df_emails = df_emails[df_emails.sender.str.contains(\"News Alert\")]"
   ]
  },
  {
   "cell_type": "code",
   "execution_count": 16,
   "id": "77dd6c0e-cb19-4d97-8429-75dbb2490658",
   "metadata": {
    "tags": []
   },
   "outputs": [],
   "source": [
    "###### DO NOT CHANGE ######\n",
    "emails = \"\\n\".join(df_emails.content.tolist())\n",
    "prompt_template = \"{input}\\n Question: Given the news headlines above, {your_question} Answer: \"\n",
    "prompt_QA = prompt_template.replace(\"{input}\", emails)\n",
    "###### DO NOT CHANGE ######"
   ]
  },
  {
   "cell_type": "code",
   "execution_count": 17,
   "id": "7419bc5f-42a6-440f-91bb-1b9e3b9f9e1d",
   "metadata": {
    "tags": []
   },
   "outputs": [
    {
     "name": "stdout",
     "output_type": "stream",
     "text": [
      "Overall market sentiment appears to be mixed based on the news headlines. While there are some positive developments, such as Nextera Energy Partners reaffirming its FY23 guidance and Moody's upgrading Journey Personal Care's CFR, there are also negative factors, such as Canacol Energy being downgraded by Fitch and Country Garden defaulting on a dollar bond. Additionally, the CDX High Yield Index price is little changed, indicating a lack of significant movement in the high-yield market. Therefore, it can be concluded that the overall market sentiment is leaning towards neutral or slightly negative.\n"
     ]
    }
   ],
   "source": [
    "my_question = \"Does overall market sentiment lean towards positive or negative now? Summarize with a few examples.\"\n",
    "\n",
    "###### DO NOT CHANGE ######\n",
    "response = run_gpt(prompt_QA.replace(\"{your_question}\", my_question))\n",
    "print(response)\n",
    "###### DO NOT CHANGE ######"
   ]
  },
  {
   "cell_type": "code",
   "execution_count": 18,
   "id": "1ba02d9b-b34e-4572-93d6-67d1b9b4d253",
   "metadata": {},
   "outputs": [
    {
     "name": "stdout",
     "output_type": "stream",
     "text": [
      "Based on the news headlines above, there doesn't appear to be any impactful macro or political news driving market sentiment. The headlines mainly focus on specific issuers and their bond activities, such as new bond sales, bond trading activity, and credit ratings. There is also some news related to specific industries, such as energy and telecommunications. Overall, the news seems to be more issuer-specific rather than driven by broader macro or political factors.\n"
     ]
    }
   ],
   "source": [
    "my_question = \"any impactful macro or political news driving market sentiment? Summarize by issuers:\"\n",
    "\n",
    "###### DO NOT CHANGE ######\n",
    "response = run_gpt(prompt_QA.replace(\"{your_question}\", my_question))\n",
    "print(response)\n",
    "###### DO NOT CHANGE ######"
   ]
  },
  {
   "cell_type": "code",
   "execution_count": 19,
   "id": "1f0f059c-5234-498b-aa99-37879890eb1a",
   "metadata": {
    "tags": []
   },
   "outputs": [
    {
     "name": "stdout",
     "output_type": "stream",
     "text": [
      "Based on the news headlines provided, there are several impactful credit rating affirmations, upgrades, downgrades, and outlook changes. Here is a summary by issuers:\n",
      "\n",
      "1. Ryan LLC: S&P affirmed the rating at B+ with a stable outlook.\n",
      "2. Canacol Energy Ltd: Fitch downgraded the rating to BB- and assigned a negative outlook.\n",
      "3. Commercial International Bank (Egypt) S.A.E.: S&P downgraded the rating to B- with a stable outlook.\n",
      "4. Banque Misr: S&P downgraded the rating to B- with a stable outlook.\n",
      "5. National Bank of Egypt: S&P downgraded the rating to B- with a stable outlook.\n",
      "6. Angola: Moody's affirmed the ratings at B3 with a positive outlook.\n",
      "7. Rising Tide Holdings Inc.: S&P downgraded the rating to CCC+ with a negative outlook.\n",
      "8. Hess Midstream Operations L.P.: S&P assigned a rating of BB+ with a watch positive outlook.\n",
      "9. Energo-Pro a.s.: Fitch assigned a proposed notes rating of BB-.\n",
      "10. Borr Drilling: Fitch assigned ratings to the 5NC2 and 7NC3 coupons.\n",
      "11. Country Garden: Default on a dollar bond was declared for the first time.\n",
      "12. A-Gas: Moody's assigned a first-time rating of B2 with a stable outlook.\n",
      "13. Inter Media and Comm: S&P affirmed the debt rating at B with a stable outlook.\n",
      "14. SK Neptune Husky: S&P downgraded the rating to CCC+ with a negative outlook.\n",
      "15. Lifetime Brands: S&P affirmed the rating at B+ with a negative outlook.\n",
      "\n",
      "These are the notable credit rating actions based on the provided news headlines.\n"
     ]
    }
   ],
   "source": [
    "my_question = \"Any impactful credit rating affirmation, upgrade, downgrade, or outlook changes? Summarize by issuers:\"\n",
    "\n",
    "###### DO NOT CHANGE ######\n",
    "response = run_gpt(prompt_QA.replace(\"{your_question}\", my_question))\n",
    "print(response)\n",
    "###### DO NOT CHANGE ######"
   ]
  },
  {
   "cell_type": "code",
   "execution_count": 20,
   "id": "351248be-35b6-4556-a072-597908982b3e",
   "metadata": {
    "tags": []
   },
   "outputs": [
    {
     "name": "stdout",
     "output_type": "stream",
     "text": [
      "Based on the news headlines, there are two high-grade companies considering new bond sales on Tuesday. However, the specific issuers are not mentioned in the provided information.\n"
     ]
    }
   ],
   "source": [
    "my_question = \"Any notable new issuance plans announced in the pipelines? Summarize by issuers:\"\n",
    "\n",
    "###### DO NOT CHANGE ######\n",
    "response = run_gpt(prompt_QA.replace(\"{your_question}\", my_question))\n",
    "print(response)\n",
    "###### DO NOT CHANGE ######"
   ]
  },
  {
   "cell_type": "code",
   "execution_count": 331,
   "id": "3c33a9b0-8f90-4199-9bd2-4fcd3e10c248",
   "metadata": {
    "tags": []
   },
   "outputs": [
    {
     "name": "stdout",
     "output_type": "stream",
     "text": [
      "The news headlines indicate that there is ongoing conflict and tension in Israel. The country is engaged in a war with Hamas, a Palestinian militant group, in the Gaza Strip. The conflict has escalated in recent days, with both sides exchanging airstrikes and rocket attacks. The situation has also drawn the involvement of other countries in the region, such as Lebanon, which has seen border clashes with Israel, and Iran, which has expressed support for the Palestinians and called for an oil embargo against Israel. The United States, under President Biden, is closely monitoring the situation and has sent military support to Israel. Additionally, there are diplomatic efforts underway, with leaders from Egypt, Jordan, and Palestine meeting in Jordan to discuss the conflict. The situation is fluid and evolving, with the potential for further escalation or de-escalation depending on the actions of the involved parties.\n"
     ]
    }
   ],
   "source": [
    "my_question = \"What's happening in Israel? Which other countries are involved? Elaborate a bit:\"\n",
    "\n",
    "###### DO NOT CHANGE ######\n",
    "response = run_gpt(prompt_QA.replace(\"{your_question}\", my_question))\n",
    "print(response)\n",
    "###### DO NOT CHANGE ######"
   ]
  },
  {
   "cell_type": "code",
   "execution_count": null,
   "id": "dfd3a12d-576a-4711-b6eb-c6f94f23f8ce",
   "metadata": {},
   "outputs": [],
   "source": []
  }
 ],
 "metadata": {
  "kernelspec": {
   "display_name": "Python 3 (ipykernel)",
   "language": "python",
   "name": "python3"
  },
  "language_info": {
   "codemirror_mode": {
    "name": "ipython",
    "version": 3
   },
   "file_extension": ".py",
   "mimetype": "text/x-python",
   "name": "python",
   "nbconvert_exporter": "python",
   "pygments_lexer": "ipython3",
   "version": "3.10.8"
  }
 },
 "nbformat": 4,
 "nbformat_minor": 5
}
